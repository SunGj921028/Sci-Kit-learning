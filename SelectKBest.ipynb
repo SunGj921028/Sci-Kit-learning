{
 "cells": [
  {
   "cell_type": "code",
   "execution_count": 1,
   "metadata": {},
   "outputs": [
    {
     "name": "stdout",
     "output_type": "stream",
     "text": [
      "原始特徵數量： 4\n",
      "選擇的特徵數量： 2\n",
      "選擇的特徵索引： [2 3]\n"
     ]
    }
   ],
   "source": [
    "from sklearn.datasets import load_iris\n",
    "from sklearn.feature_selection import SelectKBest, f_classif\n",
    "\n",
    "# 載入 iris 數據集\n",
    "X, y = load_iris(return_X_y=True)\n",
    "\n",
    "# 使用 SelectKBest 選擇前 2 個最佳特徵\n",
    "selector = SelectKBest(score_func=f_classif, k=2)\n",
    "X_new = selector.fit_transform(X, y)\n",
    "\n",
    "print(\"原始特徵數量：\", X.shape[1])\n",
    "print(\"選擇的特徵數量：\", X_new.shape[1]) # must equals to k\n",
    "print(\"選擇的特徵索引：\", selector.get_support(indices=True))\n"
   ]
  },
  {
   "cell_type": "code",
   "execution_count": 2,
   "metadata": {},
   "outputs": [
    {
     "name": "stdout",
     "output_type": "stream",
     "text": [
      "原始特徵數量： 5\n",
      "選擇的特徵數量： 3\n",
      "選擇的特徵索引： [0 1 3]\n"
     ]
    }
   ],
   "source": [
    "from sklearn.datasets import make_regression\n",
    "from sklearn.feature_selection import SelectKBest, f_regression\n",
    "\n",
    "# 創建一個回歸數據集\n",
    "X, y = make_regression(n_samples=100, n_features=5, noise=0.1, random_state=42)\n",
    "\n",
    "# 使用 SelectKBest 選擇前 3 個最佳特徵\n",
    "selector = SelectKBest(score_func=f_regression, k=3)\n",
    "X_new = selector.fit_transform(X, y)\n",
    "\n",
    "print(\"原始特徵數量：\", X.shape[1])\n",
    "print(\"選擇的特徵數量：\", X_new.shape[1])\n",
    "print(\"選擇的特徵索引：\", selector.get_support(indices=True))\n"
   ]
  }
 ],
 "metadata": {
  "kernelspec": {
   "display_name": "Python 3",
   "language": "python",
   "name": "python3"
  },
  "language_info": {
   "codemirror_mode": {
    "name": "ipython",
    "version": 3
   },
   "file_extension": ".py",
   "mimetype": "text/x-python",
   "name": "python",
   "nbconvert_exporter": "python",
   "pygments_lexer": "ipython3",
   "version": "3.12.6"
  }
 },
 "nbformat": 4,
 "nbformat_minor": 2
}
