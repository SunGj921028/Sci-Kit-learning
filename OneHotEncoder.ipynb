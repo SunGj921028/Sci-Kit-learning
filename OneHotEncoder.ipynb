{
 "cells": [
  {
   "cell_type": "code",
   "execution_count": 1,
   "metadata": {},
   "outputs": [
    {
     "name": "stdout",
     "output_type": "stream",
     "text": [
      "[[0. 0. 1.]\n",
      " [1. 0. 0.]\n",
      " [0. 1. 0.]\n",
      " [1. 0. 0.]\n",
      " [0. 0. 1.]]\n"
     ]
    }
   ],
   "source": [
    "from sklearn.preprocessing import OneHotEncoder\n",
    "\n",
    "# 原始類別數據\n",
    "data = [['Red'], ['Blue'], ['Green'], ['Blue'], ['Red']]\n",
    "\n",
    "# 創建 OneHotEncoder 物件並對數據進行編碼\n",
    "encoder = OneHotEncoder()\n",
    "encoded_data = encoder.fit_transform(data).toarray()\n",
    "\n",
    "print(encoded_data)\n"
   ]
  },
  {
   "cell_type": "code",
   "execution_count": 2,
   "metadata": {},
   "outputs": [
    {
     "name": "stdout",
     "output_type": "stream",
     "text": [
      "[[0. 0. 1. 0. 0. 1.]\n",
      " [1. 0. 0. 1. 0. 0.]\n",
      " [0. 1. 0. 0. 1. 0.]\n",
      " [1. 0. 0. 0. 0. 1.]\n",
      " [0. 0. 1. 0. 1. 0.]]\n"
     ]
    }
   ],
   "source": [
    "# 有多個類別特徵的數據\n",
    "data = [['Red', 'Small'], ['Blue', 'Large'], ['Green', 'Medium'], ['Blue', 'Small'], ['Red', 'Medium']]\n",
    "\n",
    "# 對數據的每個類別特徵進行編碼\n",
    "encoder = OneHotEncoder()\n",
    "encoded_data = encoder.fit_transform(data).toarray()\n",
    "\n",
    "print(encoded_data)\n"
   ]
  },
  {
   "cell_type": "markdown",
   "metadata": {},
   "source": [
    "## Sparse"
   ]
  },
  {
   "cell_type": "code",
   "execution_count": 7,
   "metadata": {},
   "outputs": [
    {
     "name": "stdout",
     "output_type": "stream",
     "text": [
      "<Compressed Sparse Row sparse matrix of dtype 'float64'\n",
      "\twith 10 stored elements and shape (5, 6)>\n",
      "  Coords\tValues\n",
      "  (0, 2)\t1.0\n",
      "  (0, 5)\t1.0\n",
      "  (1, 0)\t1.0\n",
      "  (1, 3)\t1.0\n",
      "  (2, 1)\t1.0\n",
      "  (2, 4)\t1.0\n",
      "  (3, 0)\t1.0\n",
      "  (3, 5)\t1.0\n",
      "  (4, 2)\t1.0\n",
      "  (4, 4)\t1.0\n"
     ]
    }
   ],
   "source": [
    "# 使用 dense (非稀疏) 輸出\n",
    "encoder = OneHotEncoder(sparse_output=False)\n",
    "encoded_data = encoder.fit_transform(data)\n",
    "\n",
    "print(encoded_data)\n"
   ]
  },
  {
   "cell_type": "code",
   "execution_count": 8,
   "metadata": {},
   "outputs": [
    {
     "name": "stdout",
     "output_type": "stream",
     "text": [
      "<Compressed Sparse Row sparse matrix of dtype 'float64'\n",
      "\twith 10 stored elements and shape (5, 6)>\n",
      "  Coords\tValues\n",
      "  (0, 2)\t1.0\n",
      "  (0, 5)\t1.0\n",
      "  (1, 0)\t1.0\n",
      "  (1, 3)\t1.0\n",
      "  (2, 1)\t1.0\n",
      "  (2, 4)\t1.0\n",
      "  (3, 0)\t1.0\n",
      "  (3, 5)\t1.0\n",
      "  (4, 2)\t1.0\n",
      "  (4, 4)\t1.0\n"
     ]
    }
   ],
   "source": [
    "# 使用 dense (非稀疏) 輸出\n",
    "encoder = OneHotEncoder(sparse_output=True)\n",
    "encoded_data = encoder.fit_transform(data)\n",
    "\n",
    "print(encoded_data)\n"
   ]
  },
  {
   "cell_type": "markdown",
   "metadata": {},
   "source": [
    "## Handle Unknwon"
   ]
  },
  {
   "cell_type": "code",
   "execution_count": 4,
   "metadata": {},
   "outputs": [
    {
     "name": "stdout",
     "output_type": "stream",
     "text": [
      "[[0. 0. 1.]\n",
      " [0. 0. 0.]]\n"
     ]
    }
   ],
   "source": [
    "# 原始數據\n",
    "train_data = [['Red'], ['Blue'], ['Green']]\n",
    "test_data = [['Red'], ['Yellow']]\n",
    "\n",
    "# 設置 handle_unknown='ignore' 來處理未知類別\n",
    "encoder = OneHotEncoder(handle_unknown='ignore')\n",
    "encoder.fit(train_data)\n",
    "\n",
    "# 對測試數據進行編碼\n",
    "encoded_test_data = encoder.transform(test_data).toarray()\n",
    "\n",
    "print(encoded_test_data)\n"
   ]
  },
  {
   "cell_type": "markdown",
   "metadata": {},
   "source": [
    "## Drop\n"
   ]
  },
  {
   "cell_type": "code",
   "execution_count": 6,
   "metadata": {},
   "outputs": [
    {
     "name": "stdout",
     "output_type": "stream",
     "text": [
      "[[0. 1. 0. 1.]\n",
      " [0. 0. 0. 0.]\n",
      " [1. 0. 1. 0.]\n",
      " [0. 0. 0. 1.]\n",
      " [0. 1. 1. 0.]]\n"
     ]
    }
   ],
   "source": [
    "# 設置 drop='first'，移除第一個類別來避免多重共線性\n",
    "encoder = OneHotEncoder(drop='first', sparse_output=False)\n",
    "encoded_data = encoder.fit_transform(data)\n",
    "\n",
    "print(encoded_data)\n"
   ]
  }
 ],
 "metadata": {
  "kernelspec": {
   "display_name": "Python 3",
   "language": "python",
   "name": "python3"
  },
  "language_info": {
   "codemirror_mode": {
    "name": "ipython",
    "version": 3
   },
   "file_extension": ".py",
   "mimetype": "text/x-python",
   "name": "python",
   "nbconvert_exporter": "python",
   "pygments_lexer": "ipython3",
   "version": "3.12.6"
  }
 },
 "nbformat": 4,
 "nbformat_minor": 2
}
