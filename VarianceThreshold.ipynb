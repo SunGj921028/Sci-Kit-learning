{
 "cells": [
  {
   "cell_type": "code",
   "execution_count": 6,
   "metadata": {},
   "outputs": [
    {
     "name": "stdout",
     "output_type": "stream",
     "text": [
      "每個特徵的方差值： [0.     1.25   0.     1.1875]\n",
      "原始數據：\n",
      " [[0. 1. 0. 3.]\n",
      " [0. 2. 0. 4.]\n",
      " [0. 3. 0. 3.]\n",
      " [0. 4. 0. 1.]]\n",
      "移除方差為 0 的特徵後：\n",
      " [[1. 3.]\n",
      " [2. 4.]\n",
      " [3. 3.]\n",
      " [4. 1.]]\n"
     ]
    }
   ],
   "source": [
    "from sklearn.feature_selection import VarianceThreshold\n",
    "import numpy as np\n",
    "\n",
    "# 創建一個數據集，其中一些特徵的值完全相同\n",
    "data = np.array([\n",
    "    [0.0, 1, 0.0, 3],\n",
    "    [0.0, 2, 0.0, 4],\n",
    "    [0.0, 3, 0.0, 3],\n",
    "    [0.0, 4, 0.0, 1]\n",
    "])\n",
    "\n",
    "# 計算每個特徵的方差\n",
    "variances = np.var(data, axis=0) # axis = 0 -> 以column方向計算\n",
    "print(\"每個特徵的方差值：\", variances)\n",
    "\n",
    "# 使用 VarianceThreshold 移除方差為 0 的特徵\n",
    "selector = VarianceThreshold()\n",
    "reduced_data = selector.fit_transform(data)\n",
    "\n",
    "print(\"原始數據：\\n\", data)\n",
    "print(\"移除方差為 0 的特徵後：\\n\", reduced_data)\n"
   ]
  },
  {
   "cell_type": "code",
   "execution_count": 10,
   "metadata": {},
   "outputs": [
    {
     "name": "stdout",
     "output_type": "stream",
     "text": [
      "每個特徵的方差值1： [0.    0.25  0.005]\n",
      "每個特徵的方差值2： [0.    0.25  0.005]\n",
      "原始數據：\n",
      " [[0.  2.  0.2]\n",
      " [0.  1.  0.1]\n",
      " [0.  2.  0.2]\n",
      " [0.  1.  0.3]]\n",
      "移除方差小於 0.2 的特徵後：\n",
      " [[2.]\n",
      " [1.]\n",
      " [2.]\n",
      " [1.]]\n"
     ]
    }
   ],
   "source": [
    "# 創建一個包含不同方差的數據集\n",
    "data = np.array([\n",
    "    [0, 2, 0.2],\n",
    "    [0, 1, 0.1],\n",
    "    [0, 2, 0.2],\n",
    "    [0, 1, 0.3]\n",
    "])\n",
    "\n",
    "# 計算每個特徵的方差\n",
    "variances = np.var(data, axis=0)\n",
    "print(\"每個特徵的方差值1：\", variances)\n",
    "\n",
    "# 設定閾值，移除方差小於 0.2 的特徵\n",
    "selector = VarianceThreshold(threshold=0.2)\n",
    "reduced_data = selector.fit_transform(data)\n",
    "\n",
    "# 查看方差值\n",
    "print(\"每個特徵的方差值2：\", selector.variances_)\n",
    "\n",
    "print(\"原始數據：\\n\", data)\n",
    "print(\"移除方差小於 0.2 的特徵後：\\n\", reduced_data)\n"
   ]
  },
  {
   "cell_type": "code",
   "execution_count": null,
   "metadata": {},
   "outputs": [],
   "source": []
  }
 ],
 "metadata": {
  "kernelspec": {
   "display_name": "Python 3",
   "language": "python",
   "name": "python3"
  },
  "language_info": {
   "codemirror_mode": {
    "name": "ipython",
    "version": 3
   },
   "file_extension": ".py",
   "mimetype": "text/x-python",
   "name": "python",
   "nbconvert_exporter": "python",
   "pygments_lexer": "ipython3",
   "version": "3.12.6"
  }
 },
 "nbformat": 4,
 "nbformat_minor": 2
}
