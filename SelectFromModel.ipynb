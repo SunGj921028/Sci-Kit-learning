{
 "cells": [
  {
   "cell_type": "markdown",
   "metadata": {},
   "source": [
    "## Random forest"
   ]
  },
  {
   "cell_type": "code",
   "execution_count": 1,
   "metadata": {},
   "outputs": [
    {
     "name": "stdout",
     "output_type": "stream",
     "text": [
      "原始數據：\n",
      " [[ 1  0  3]\n",
      " [ 4  0  6]\n",
      " [ 7  0  9]\n",
      " [10  0 12]]\n",
      "經過特徵選擇後：\n",
      " [[ 1  3]\n",
      " [ 4  6]\n",
      " [ 7  9]\n",
      " [10 12]]\n",
      "選擇的重要特徵索引： [0 2]\n"
     ]
    }
   ],
   "source": [
    "from sklearn.ensemble import RandomForestClassifier\n",
    "from sklearn.feature_selection import SelectFromModel\n",
    "import numpy as np\n",
    "\n",
    "# 創建一個簡單的數據集\n",
    "X = np.array([[1, 0, 3], [4, 0, 6], [7, 0, 9], [10, 0, 12]])\n",
    "y = np.array([0, 1, 0, 1])\n",
    "\n",
    "# 使用隨機森林分類器作為基礎模型\n",
    "clf = RandomForestClassifier(n_estimators=100, random_state=42)\n",
    "clf.fit(X, y)\n",
    "\n",
    "# 使用 SelectFromModel 進行特徵選擇\n",
    "selector = SelectFromModel(clf, threshold=\"mean\", prefit=True)\n",
    "X_new = selector.transform(X)\n",
    "\n",
    "print(\"原始數據：\\n\", X)\n",
    "print(\"經過特徵選擇後：\\n\", X_new)\n",
    "print(\"選擇的重要特徵索引：\", selector.get_support(indices=True))\n"
   ]
  },
  {
   "cell_type": "markdown",
   "metadata": {},
   "source": [
    "## L1 Norm"
   ]
  },
  {
   "cell_type": "code",
   "execution_count": 2,
   "metadata": {},
   "outputs": [
    {
     "name": "stdout",
     "output_type": "stream",
     "text": [
      "原始數據：\n",
      " [[0.1 1.1 0.5]\n",
      " [0.2 1.2 0.6]\n",
      " [0.3 1.3 0.7]\n",
      " [0.4 1.4 0.8]]\n",
      "經過特徵選擇後：\n",
      " [[0.1]\n",
      " [0.2]\n",
      " [0.3]\n",
      " [0.4]]\n",
      "選擇的重要特徵索引： [0]\n"
     ]
    }
   ],
   "source": [
    "from sklearn.linear_model import Lasso\n",
    "from sklearn.feature_selection import SelectFromModel\n",
    "\n",
    "# 創建一個簡單的數據集\n",
    "X = np.array([[0.1, 1.1, 0.5], [0.2, 1.2, 0.6], [0.3, 1.3, 0.7], [0.4, 1.4, 0.8]])\n",
    "y = np.array([1, 2, 3, 4])\n",
    "\n",
    "# 使用 Lasso 作為基礎模型\n",
    "lasso = Lasso(alpha=0.1)\n",
    "lasso.fit(X, y)\n",
    "\n",
    "# 使用 SelectFromModel 進行特徵選擇\n",
    "selector = SelectFromModel(lasso, threshold=\"mean\", prefit=True)\n",
    "X_new = selector.transform(X)\n",
    "\n",
    "print(\"原始數據：\\n\", X)\n",
    "print(\"經過特徵選擇後：\\n\", X_new)\n",
    "print(\"選擇的重要特徵索引：\", selector.get_support(indices=True))\n"
   ]
  }
 ],
 "metadata": {
  "kernelspec": {
   "display_name": "Python 3",
   "language": "python",
   "name": "python3"
  },
  "language_info": {
   "codemirror_mode": {
    "name": "ipython",
    "version": 3
   },
   "file_extension": ".py",
   "mimetype": "text/x-python",
   "name": "python",
   "nbconvert_exporter": "python",
   "pygments_lexer": "ipython3",
   "version": "3.12.6"
  }
 },
 "nbformat": 4,
 "nbformat_minor": 2
}
