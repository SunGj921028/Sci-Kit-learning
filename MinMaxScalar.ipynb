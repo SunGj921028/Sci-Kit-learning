{
 "cells": [
  {
   "cell_type": "markdown",
   "metadata": {},
   "source": [
    "## (0-1)"
   ]
  },
  {
   "cell_type": "code",
   "execution_count": 1,
   "metadata": {},
   "outputs": [
    {
     "name": "stdout",
     "output_type": "stream",
     "text": [
      "[[0.         0.        ]\n",
      " [0.33333333 0.25      ]\n",
      " [0.66666667 0.5       ]\n",
      " [1.         1.        ]]\n"
     ]
    }
   ],
   "source": [
    "from sklearn.preprocessing import MinMaxScaler\n",
    "import numpy as np\n",
    "\n",
    "# 原始數據\n",
    "data = np.array([[1.0, 10.0], [2.0, 15.0], [3.0, 20.0], [4.0, 30.0]])\n",
    "\n",
    "# 創建 MinMaxScaler 並進行縮放\n",
    "scaler = MinMaxScaler()\n",
    "scaled_data = scaler.fit_transform(data)\n",
    "\n",
    "print(scaled_data)\n"
   ]
  },
  {
   "cell_type": "markdown",
   "metadata": {},
   "source": [
    "## Self-defined range"
   ]
  },
  {
   "cell_type": "code",
   "execution_count": 2,
   "metadata": {},
   "outputs": [
    {
     "name": "stdout",
     "output_type": "stream",
     "text": [
      "[[-1.         -1.        ]\n",
      " [-0.33333333 -0.5       ]\n",
      " [ 0.33333333  0.        ]\n",
      " [ 1.          1.        ]]\n"
     ]
    }
   ],
   "source": [
    "# 將數據縮放到 [-1, 1] 區間\n",
    "scaler = MinMaxScaler(feature_range=(-1, 1))\n",
    "scaled_data = scaler.fit_transform(data)\n",
    "\n",
    "print(scaled_data)\n"
   ]
  },
  {
   "cell_type": "code",
   "execution_count": 3,
   "metadata": {},
   "outputs": [
    {
     "name": "stdout",
     "output_type": "stream",
     "text": [
      "數據最小值: [ 1. 10.]\n",
      "數據最大值: [ 4. 30.]\n"
     ]
    }
   ],
   "source": [
    "# 保存最小值和最大值\n",
    "print(\"數據最小值:\", scaler.data_min_)\n",
    "print(\"數據最大值:\", scaler.data_max_)\n"
   ]
  },
  {
   "cell_type": "code",
   "execution_count": 4,
   "metadata": {},
   "outputs": [
    {
     "name": "stdout",
     "output_type": "stream",
     "text": [
      "[[ 1. 10.]\n",
      " [ 2. 15.]\n",
      " [ 3. 20.]\n",
      " [ 4. 30.]]\n"
     ]
    }
   ],
   "source": [
    "# 反轉縮放\n",
    "original_data = scaler.inverse_transform(scaled_data)\n",
    "print(original_data)\n"
   ]
  },
  {
   "cell_type": "code",
   "execution_count": 5,
   "metadata": {},
   "outputs": [
    {
     "name": "stdout",
     "output_type": "stream",
     "text": [
      "[[0.         0.        ]\n",
      " [0.33333333 0.25      ]\n",
      " [0.66666667 0.5       ]\n",
      " [1.         1.        ]]\n"
     ]
    }
   ],
   "source": [
    "# 多個特徵的數據\n",
    "data = np.array([[1.0, 100.0], [2.0, 150.0], [3.0, 200.0], [4.0, 300.0]])\n",
    "\n",
    "# 將多個特徵縮放到 [0, 1] 區間\n",
    "scaler = MinMaxScaler()\n",
    "scaled_data = scaler.fit_transform(data)\n",
    "\n",
    "print(scaled_data)\n"
   ]
  },
  {
   "cell_type": "markdown",
   "metadata": {},
   "source": [
    "## Clip\n"
   ]
  },
  {
   "cell_type": "code",
   "execution_count": 6,
   "metadata": {},
   "outputs": [
    {
     "name": "stdout",
     "output_type": "stream",
     "text": [
      "原始數據的縮放結果 (無 clip)：\n",
      "[[-0.25 ]\n",
      " [ 0.125]\n",
      " [ 1.25 ]]\n",
      "原始數據的縮放結果 (有 clip)：\n",
      "[[0.   ]\n",
      " [0.125]\n",
      " [1.   ]]\n"
     ]
    }
   ],
   "source": [
    "from sklearn.preprocessing import MinMaxScaler\n",
    "import numpy as np\n",
    "\n",
    "# 原始數據\n",
    "data = np.array([[1.0], [2.0], [3.0], [4.0], [5.0]])\n",
    "\n",
    "# 將數據縮放到 [0, 1] 區間\n",
    "scaler = MinMaxScaler(feature_range=(0, 1))\n",
    "\n",
    "# 假設我們有測試數據，其中某些數值超過了訓練數據的範圍\n",
    "test_data = np.array([[0.0], [1.5], [6.0]])\n",
    "\n",
    "# 當 clip=False（默認）\n",
    "scaled_data_without_clip = scaler.fit_transform(data)\n",
    "scaled_test_data_without_clip = scaler.transform(test_data)\n",
    "\n",
    "# 當 clip=True\n",
    "scaler_with_clip = MinMaxScaler(feature_range=(0, 1), clip=True)\n",
    "scaled_test_data_with_clip = scaler_with_clip.fit_transform(data)\n",
    "scaled_test_data_with_clip = scaler_with_clip.transform(test_data)\n",
    "\n",
    "print(\"原始數據的縮放結果 (無 clip)：\")\n",
    "print(scaled_test_data_without_clip)\n",
    "\n",
    "print(\"原始數據的縮放結果 (有 clip)：\")\n",
    "print(scaled_test_data_with_clip)\n"
   ]
  }
 ],
 "metadata": {
  "kernelspec": {
   "display_name": "Python 3",
   "language": "python",
   "name": "python3"
  },
  "language_info": {
   "codemirror_mode": {
    "name": "ipython",
    "version": 3
   },
   "file_extension": ".py",
   "mimetype": "text/x-python",
   "name": "python",
   "nbconvert_exporter": "python",
   "pygments_lexer": "ipython3",
   "version": "3.12.6"
  }
 },
 "nbformat": 4,
 "nbformat_minor": 2
}
