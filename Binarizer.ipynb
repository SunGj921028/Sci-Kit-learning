{
 "cells": [
  {
   "cell_type": "code",
   "execution_count": 9,
   "metadata": {},
   "outputs": [
    {
     "name": "stdout",
     "output_type": "stream",
     "text": [
      "[[0 1 0]\n",
      " [1 0 1]\n",
      " [0 1 0]]\n"
     ]
    }
   ],
   "source": [
    "from sklearn.preprocessing import Binarizer\n",
    "\n",
    "# 原始數據\n",
    "data = [[-1, 2, 0],\n",
    "        [3, -2, 1],\n",
    "        [0, 1, 0]]\n",
    "\n",
    "# 使用預設閾值 0 進行二值化\n",
    "binarizer = Binarizer()\n",
    "binarized_data = binarizer.fit_transform(data)\n",
    "\n",
    "print(binarized_data)"
   ]
  },
  {
   "cell_type": "code",
   "execution_count": 12,
   "metadata": {},
   "outputs": [
    {
     "name": "stdout",
     "output_type": "stream",
     "text": [
      "[[0 1 0]\n",
      " [1 0 0]\n",
      " [0 0 0]]\n"
     ]
    }
   ],
   "source": [
    "# 使用閾值 1 進行二值化\n",
    "binarizer = Binarizer(threshold=1)\n",
    "binarized_data = binarizer.fit_transform(data)\n",
    "\n",
    "print(binarized_data)"
   ]
  },
  {
   "cell_type": "code",
   "execution_count": 8,
   "metadata": {},
   "outputs": [
    {
     "name": "stdout",
     "output_type": "stream",
     "text": [
      "[[0.]\n",
      " [1.]\n",
      " [1.]]\n"
     ]
    }
   ],
   "source": [
    "import numpy as np\n",
    "\n",
    "# 假設我們只想對第一列進行二值化\n",
    "data = np.array([[1.5, -2.3, 3.1], [4.5, 5.0, -0.5], [2.2, 3.3, 0.7]])\n",
    "\n",
    "# 對第一列數據進行二值化，閾值設置為 2\n",
    "binarizer = Binarizer(threshold=2)\n",
    "binarized_data = binarizer.fit_transform(data[:, 0].reshape(-1, 1))\n",
    "\n",
    "print(binarized_data)"
   ]
  }
 ],
 "metadata": {
  "kernelspec": {
   "display_name": "Python 3",
   "language": "python",
   "name": "python3"
  },
  "language_info": {
   "codemirror_mode": {
    "name": "ipython",
    "version": 3
   },
   "file_extension": ".py",
   "mimetype": "text/x-python",
   "name": "python",
   "nbconvert_exporter": "python",
   "pygments_lexer": "ipython3",
   "version": "3.12.6"
  }
 },
 "nbformat": 4,
 "nbformat_minor": 2
}
