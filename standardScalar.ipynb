{
 "cells": [
  {
   "cell_type": "code",
   "execution_count": 1,
   "metadata": {},
   "outputs": [
    {
     "name": "stdout",
     "output_type": "stream",
     "text": [
      "[[-1.34164079 -1.52127766]\n",
      " [-0.4472136  -0.16903085]\n",
      " [ 0.4472136   0.50709255]\n",
      " [ 1.34164079  1.18321596]]\n"
     ]
    }
   ],
   "source": [
    "from sklearn.preprocessing import StandardScaler\n",
    "import numpy as np\n",
    "\n",
    "# 原始數據\n",
    "data = np.array([[1.0, 2.0], [3.0, 6.0], [5.0, 8.0], [7.0, 10.0]])\n",
    "\n",
    "# 創建 StandardScaler 並對數據進行標準化\n",
    "scaler = StandardScaler()\n",
    "scaled_data = scaler.fit_transform(data)\n",
    "\n",
    "print(scaled_data)\n"
   ]
  },
  {
   "cell_type": "code",
   "execution_count": 2,
   "metadata": {},
   "outputs": [
    {
     "name": "stdout",
     "output_type": "stream",
     "text": [
      "均值: [4.  6.5]\n",
      "標準差: [2.23606798 2.95803989]\n"
     ]
    }
   ],
   "source": [
    "# 保存均值與標準差\n",
    "print(\"均值:\", scaler.mean_)\n",
    "print(\"標準差:\", scaler.scale_)\n"
   ]
  },
  {
   "cell_type": "code",
   "execution_count": 3,
   "metadata": {},
   "outputs": [
    {
     "name": "stdout",
     "output_type": "stream",
     "text": [
      "[[ 1.  2.]\n",
      " [ 3.  6.]\n",
      " [ 5.  8.]\n",
      " [ 7. 10.]]\n"
     ]
    }
   ],
   "source": [
    "# 反轉標準化\n",
    "original_data = scaler.inverse_transform(scaled_data)\n",
    "print(original_data)\n"
   ]
  },
  {
   "cell_type": "code",
   "execution_count": 4,
   "metadata": {},
   "outputs": [
    {
     "name": "stdout",
     "output_type": "stream",
     "text": [
      "[[-1.34164079 -1.18321596]\n",
      " [-0.4472136  -0.50709255]\n",
      " [ 0.4472136   0.16903085]\n",
      " [ 1.34164079  1.52127766]]\n"
     ]
    }
   ],
   "source": [
    "# 多個特徵數據集\n",
    "data = np.array([[1.0, 100.0], [2.0, 150.0], [3.0, 200.0], [4.0, 300.0]])\n",
    "\n",
    "# 對多個特徵進行標準化\n",
    "scaler = StandardScaler()\n",
    "scaled_data = scaler.fit_transform(data)\n",
    "\n",
    "print(scaled_data)\n"
   ]
  },
  {
   "cell_type": "code",
   "execution_count": 5,
   "metadata": {},
   "outputs": [
    {
     "name": "stdout",
     "output_type": "stream",
     "text": [
      "[[0.89442719 1.35224681]\n",
      " [1.78885438 2.02837021]\n",
      " [2.68328157 2.70449362]\n",
      " [3.57770876 4.05674042]]\n"
     ]
    }
   ],
   "source": [
    "# 不進行數據的中心化，只進行標準差縮放\n",
    "scaler = StandardScaler(with_mean=False)\n",
    "scaled_data = scaler.fit_transform(data)\n",
    "\n",
    "print(scaled_data)\n"
   ]
  },
  {
   "cell_type": "code",
   "execution_count": 6,
   "metadata": {},
   "outputs": [
    {
     "name": "stdout",
     "output_type": "stream",
     "text": [
      "[[1.78885438 1.62269617]]\n"
     ]
    }
   ],
   "source": [
    "# 測試數據\n",
    "test_data = np.array([[2.0, 120.0]])\n",
    "\n",
    "# 使用與訓練數據相同的標準化參數對測試數據進行轉換\n",
    "scaled_test_data = scaler.transform(test_data)\n",
    "\n",
    "print(scaled_test_data)\n"
   ]
  }
 ],
 "metadata": {
  "kernelspec": {
   "display_name": "Python 3",
   "language": "python",
   "name": "python3"
  },
  "language_info": {
   "codemirror_mode": {
    "name": "ipython",
    "version": 3
   },
   "file_extension": ".py",
   "mimetype": "text/x-python",
   "name": "python",
   "nbconvert_exporter": "python",
   "pygments_lexer": "ipython3",
   "version": "3.12.6"
  }
 },
 "nbformat": 4,
 "nbformat_minor": 2
}
