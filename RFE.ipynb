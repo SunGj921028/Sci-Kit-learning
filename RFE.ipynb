{
 "cells": [
  {
   "cell_type": "markdown",
   "metadata": {},
   "source": [
    "## 邏輯回歸模型"
   ]
  },
  {
   "cell_type": "code",
   "execution_count": 1,
   "metadata": {},
   "outputs": [
    {
     "name": "stdout",
     "output_type": "stream",
     "text": [
      "原始數據：\n",
      " [[ 1  2  3]\n",
      " [ 4  5  6]\n",
      " [ 7  8  9]\n",
      " [10 11 12]]\n",
      "是否選中特徵： [False  True  True]\n",
      "每個特徵的排名： [2 1 1]\n",
      "經過特徵選擇後的數據：\n",
      " [[ 2  3]\n",
      " [ 5  6]\n",
      " [ 8  9]\n",
      " [11 12]]\n"
     ]
    }
   ],
   "source": [
    "from sklearn.feature_selection import RFE\n",
    "from sklearn.linear_model import LogisticRegression\n",
    "import numpy as np\n",
    "\n",
    "# 創建一個簡單的數據集\n",
    "X = np.array([[1, 2, 3], [4, 5, 6], [7, 8, 9], [10, 11, 12]])\n",
    "y = np.array([0, 1, 0, 1])\n",
    "\n",
    "# 使用邏輯回歸作為基礎模型\n",
    "model = LogisticRegression()\n",
    "\n",
    "# 使用 RFE 進行特徵選擇，選擇 2 個最具影響力的特徵\n",
    "rfe = RFE(estimator=model, n_features_to_select=2)\n",
    "fit = rfe.fit(X, y)\n",
    "\n",
    "print(\"原始數據：\\n\", X)\n",
    "print(\"是否選中特徵：\", fit.support_)\n",
    "print(\"每個特徵的排名：\", fit.ranking_) # 排名越小，特徵越重要\n",
    "print(\"經過特徵選擇後的數據：\\n\", fit.transform(X))\n"
   ]
  },
  {
   "cell_type": "markdown",
   "metadata": {},
   "source": [
    "## 隨機森林\n"
   ]
  },
  {
   "cell_type": "code",
   "execution_count": 2,
   "metadata": {},
   "outputs": [
    {
     "name": "stdout",
     "output_type": "stream",
     "text": [
      "原始數據：\n",
      " [[10 15  1]\n",
      " [25 30  0]\n",
      " [20 35  1]\n",
      " [30 40  0]]\n",
      "是否選中特徵： [ True False  True]\n",
      "每個特徵的排名： [1 2 1]\n",
      "經過特徵選擇後的數據：\n",
      " [[10  1]\n",
      " [25  0]\n",
      " [20  1]\n",
      " [30  0]]\n"
     ]
    }
   ],
   "source": [
    "from sklearn.ensemble import RandomForestClassifier\n",
    "from sklearn.feature_selection import RFE\n",
    "\n",
    "# 創建一個數據集\n",
    "X = np.array([[10, 15, 1], [25, 30, 0], [20, 35, 1], [30, 40, 0]])\n",
    "y = np.array([0, 1, 0, 1])\n",
    "\n",
    "# 使用隨機森林分類器作為基礎模型\n",
    "clf = RandomForestClassifier(n_estimators=100)\n",
    "\n",
    "# 使用 RFE 進行特徵選擇，選擇 2 個特徵\n",
    "rfe = RFE(estimator=clf, n_features_to_select=2)\n",
    "fit = rfe.fit(X, y)\n",
    "\n",
    "print(\"原始數據：\\n\", X)\n",
    "print(\"是否選中特徵：\", fit.support_)\n",
    "print(\"每個特徵的排名：\", fit.ranking_)\n",
    "print(\"經過特徵選擇後的數據：\\n\", fit.transform(X))\n"
   ]
  }
 ],
 "metadata": {
  "kernelspec": {
   "display_name": "Python 3",
   "language": "python",
   "name": "python3"
  },
  "language_info": {
   "codemirror_mode": {
    "name": "ipython",
    "version": 3
   },
   "file_extension": ".py",
   "mimetype": "text/x-python",
   "name": "python",
   "nbconvert_exporter": "python",
   "pygments_lexer": "ipython3",
   "version": "3.12.6"
  }
 },
 "nbformat": 4,
 "nbformat_minor": 2
}
