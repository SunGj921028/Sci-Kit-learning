{
 "cells": [
  {
   "cell_type": "markdown",
   "metadata": {},
   "source": [
    "## 等寬"
   ]
  },
  {
   "cell_type": "code",
   "execution_count": 1,
   "metadata": {},
   "outputs": [
    {
     "name": "stdout",
     "output_type": "stream",
     "text": [
      "[[0.]\n",
      " [0.]\n",
      " [1.]\n",
      " [2.]\n",
      " [2.]]\n"
     ]
    }
   ],
   "source": [
    "from sklearn.preprocessing import KBinsDiscretizer\n",
    "import numpy as np\n",
    "\n",
    "# 原始數據\n",
    "data = np.array([[1], [2], [3], [4], [5]])\n",
    "\n",
    "# 使用等寬分箱將數據分成 3 個區間，並用編碼表示\n",
    "discretizer = KBinsDiscretizer(n_bins=3, encode='ordinal', strategy='uniform')\n",
    "binned_data = discretizer.fit_transform(data)\n",
    "\n",
    "print(binned_data)\n"
   ]
  },
  {
   "cell_type": "markdown",
   "metadata": {},
   "source": [
    "## 等頻"
   ]
  },
  {
   "cell_type": "code",
   "execution_count": 3,
   "metadata": {},
   "outputs": [
    {
     "name": "stdout",
     "output_type": "stream",
     "text": [
      "[[0.]\n",
      " [0.]\n",
      " [1.]\n",
      " [2.]\n",
      " [2.]]\n"
     ]
    }
   ],
   "source": [
    "# 使用等頻分箱將數據分成 3 個區間\n",
    "discretizer = KBinsDiscretizer(n_bins=3, encode='ordinal', strategy='quantile')\n",
    "binned_data = discretizer.fit_transform(data)\n",
    "\n",
    "print(binned_data)\n"
   ]
  },
  {
   "cell_type": "markdown",
   "metadata": {},
   "source": [
    "## K-means"
   ]
  },
  {
   "cell_type": "code",
   "execution_count": 4,
   "metadata": {},
   "outputs": [
    {
     "name": "stdout",
     "output_type": "stream",
     "text": [
      "[[0.]\n",
      " [0.]\n",
      " [1.]\n",
      " [2.]\n",
      " [2.]]\n"
     ]
    }
   ],
   "source": [
    "# 使用 KMeans 分箱將數據分成 3 個區間\n",
    "discretizer = KBinsDiscretizer(n_bins=3, encode='ordinal', strategy='kmeans')\n",
    "binned_data = discretizer.fit_transform(data)\n",
    "\n",
    "print(binned_data)\n"
   ]
  },
  {
   "cell_type": "markdown",
   "metadata": {},
   "source": [
    "## Encode"
   ]
  },
  {
   "cell_type": "code",
   "execution_count": 5,
   "metadata": {},
   "outputs": [
    {
     "name": "stdout",
     "output_type": "stream",
     "text": [
      "[[1. 0. 0.]\n",
      " [1. 0. 0.]\n",
      " [0. 1. 0.]\n",
      " [0. 0. 1.]\n",
      " [0. 0. 1.]]\n"
     ]
    }
   ],
   "source": [
    "# 使用等寬分箱和 One-Hot 編碼\n",
    "discretizer = KBinsDiscretizer(n_bins=3, encode='onehot-dense', strategy='uniform')\n",
    "binned_data = discretizer.fit_transform(data)\n",
    "\n",
    "print(binned_data)\n"
   ]
  },
  {
   "cell_type": "code",
   "execution_count": 7,
   "metadata": {},
   "outputs": [
    {
     "name": "stdout",
     "output_type": "stream",
     "text": [
      "<Compressed Sparse Row sparse matrix of dtype 'float64'\n",
      "\twith 10 stored elements and shape (5, 6)>\n",
      "  Coords\tValues\n",
      "  (0, 0)\t1.0\n",
      "  (0, 3)\t1.0\n",
      "  (1, 0)\t1.0\n",
      "  (1, 3)\t1.0\n",
      "  (2, 1)\t1.0\n",
      "  (2, 4)\t1.0\n",
      "  (3, 2)\t1.0\n",
      "  (3, 5)\t1.0\n",
      "  (4, 2)\t1.0\n",
      "  (4, 5)\t1.0\n"
     ]
    }
   ],
   "source": [
    "# 使用等寬分箱和 One-Hot 編碼\n",
    "discretizer = KBinsDiscretizer(n_bins=3, encode='onehot', strategy='uniform')\n",
    "binned_data = discretizer.fit_transform(data)\n",
    "\n",
    "print(binned_data)\n"
   ]
  },
  {
   "cell_type": "code",
   "execution_count": 6,
   "metadata": {},
   "outputs": [
    {
     "name": "stdout",
     "output_type": "stream",
     "text": [
      "[[0. 0.]\n",
      " [0. 0.]\n",
      " [1. 1.]\n",
      " [2. 2.]\n",
      " [2. 2.]]\n"
     ]
    }
   ],
   "source": [
    "# 多個特徵的數據\n",
    "data = np.array([[1, 10], [2, 15], [3, 25], [4, 35], [5, 45]])\n",
    "\n",
    "# 使用等寬分箱將兩個特徵分別分成 3 個區間\n",
    "discretizer = KBinsDiscretizer(n_bins=3, encode='ordinal', strategy='uniform')\n",
    "binned_data = discretizer.fit_transform(data)\n",
    "\n",
    "print(binned_data)\n"
   ]
  }
 ],
 "metadata": {
  "kernelspec": {
   "display_name": "Python 3",
   "language": "python",
   "name": "python3"
  },
  "language_info": {
   "codemirror_mode": {
    "name": "ipython",
    "version": 3
   },
   "file_extension": ".py",
   "mimetype": "text/x-python",
   "name": "python",
   "nbconvert_exporter": "python",
   "pygments_lexer": "ipython3",
   "version": "3.12.6"
  }
 },
 "nbformat": 4,
 "nbformat_minor": 2
}
